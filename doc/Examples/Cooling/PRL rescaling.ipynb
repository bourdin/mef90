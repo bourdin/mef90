{
 "cells": [
  {
   "cell_type": "markdown",
   "metadata": {},
   "source": [
    "# Rescaling of the thermal fracture energy"
   ]
  },
  {
   "cell_type": "code",
   "execution_count": 19,
   "metadata": {
    "collapsed": true
   },
   "outputs": [],
   "source": [
    "import numpy as np"
   ]
  },
  {
   "cell_type": "code",
   "execution_count": 20,
   "metadata": {
    "collapsed": true
   },
   "outputs": [],
   "source": [
    "# Material properties and sample size form the literature\n",
    "E      = 340e9 # Pa\n",
    "nu     = 0.22\n",
    "Gc     = 42.47 # Jm^-2\n",
    "alpha  = 8e-6  # K^-1\n",
    "DeltaT = 380   # K\n",
    "sigmac = 342e6 # Pa\n",
    "lx     = 50e-3 # m\n",
    "ly     = 10e-3 # m\n",
    "lz     = 1e-3  # m"
   ]
  },
  {
   "cell_type": "code",
   "execution_count": 21,
   "metadata": {
    "collapsed": false
   },
   "outputs": [
    {
     "name": "stdout",
     "output_type": "stream",
     "text": [
      "Rescaled thermal expansion coefficient 8.60145480273\n",
      "internal length 0.0462956550734\n"
     ]
    }
   ],
   "source": [
    "# Our choice of rescaling:\n",
    "E0     = E\n",
    "x0     = lz\n",
    "G0     = Gc\n",
    "u0     = np.sqrt(x0*G0/E0)\n",
    "theta0 = DeltaT\n",
    "alpha0 = u0/theta0/x0\n",
    "#t0 = x0**2*rho*cp/kappa\n",
    "\n",
    "alphaTilde = alpha / alpha0\n",
    "ell = 3 * Gc * E / 8 / sigmac**2\n",
    "ellTilde = ell / x0\n",
    "\n",
    "print \"Rescaled thermal expansion coefficient {0}\".format(alphaTilde)\n",
    "print \"internal length {0}\".format(ellTilde)"
   ]
  },
  {
   "cell_type": "code",
   "execution_count": null,
   "metadata": {
    "collapsed": true
   },
   "outputs": [],
   "source": []
  }
 ],
 "metadata": {
  "kernelspec": {
   "display_name": "Python 2",
   "language": "python",
   "name": "python2"
  },
  "language_info": {
   "codemirror_mode": {
    "name": "ipython",
    "version": 2
   },
   "file_extension": ".py",
   "mimetype": "text/x-python",
   "name": "python",
   "nbconvert_exporter": "python",
   "pygments_lexer": "ipython2",
   "version": "2.7.10"
  }
 },
 "nbformat": 4,
 "nbformat_minor": 1
}
