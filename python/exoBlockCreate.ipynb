{
 "cells": [
  {
   "cell_type": "code",
   "execution_count": null,
   "metadata": {},
   "outputs": [],
   "source": [
    "import exodus3 as exo\n",
    "import numpy as np\n",
    "import os.path"
   ]
  },
  {
   "cell_type": "code",
   "execution_count": null,
   "metadata": {},
   "outputs": [],
   "source": [
    "newBlocks = (0,2,10,30)\n",
    "def blockindicator(xc,yc):\n",
    "    if xc < 0.0:\n",
    "        if yc <= 0.0:\n",
    "            return 0\n",
    "        else:\n",
    "            return 2\n",
    "    else:\n",
    "        if yc <= 0.0:\n",
    "            return 10\n",
    "        else:\n",
    "            return 30\n"
   ]
  },
  {
   "cell_type": "code",
   "execution_count": null,
   "metadata": {},
   "outputs": [],
   "source": [
    "infile = '../TestMeshes/SquareNG_X.gen'\n",
    "infile = '../TestMeshes/SquareFaceSetCubit2CS.gen'\n",
    "outfile = '../TestMeshes/SquareNG_X_Blocks.gen'\n",
    "e = exo.exodus(infile,array_type='numpy')"
   ]
  },
  {
   "cell_type": "code",
   "execution_count": null,
   "metadata": {},
   "outputs": [],
   "source": [
    "# check that all cells are of the same type\n",
    "nv = 0\n",
    "cellType = None\n",
    "numCells = 0\n",
    "numAttr  = 0\n",
    "for blk in e.get_elem_blk_ids():\n",
    "    cellType, ncBlk, nvBlk, naBlk = e.elem_blk_info(blk)\n",
    "    tmpConnect = e.get_elem_connectivity(blk)\n",
    "    numCells += ncBlk\n",
    "    if nv == 0:\n",
    "        nv = nvBlk\n",
    "    elif not nv == nvBlk:\n",
    "        print('Error: all blocks must have the same cell type')\n",
    "    if not cellType:\n",
    "        cellType = cellType\n",
    "    elif not cellType == cellType:\n",
    "        print('Error: all blocks must have the same cell type')\n",
    "    if numAttr == 0:\n",
    "        numAttr = naBlk\n",
    "    elif not numAttr == naBlk:\n",
    "        print('Error: all blocks must have the same number of attributes')\n",
    "print(\"number of vertex per cells: {}\".format(nv))\n",
    "print(\"Total number of cells: {}\".format(numCells))\n",
    "print(\"cell type: {}\".format(cellType))\n",
    "print(\"Number of cell attributes {}\".format(numAttr))\n"
   ]
  },
  {
   "cell_type": "markdown",
   "metadata": {},
   "source": []
  },
  {
   "cell_type": "code",
   "execution_count": null,
   "metadata": {},
   "outputs": [],
   "source": [
    "# read the entire connectivity table in one array (this could be optimized)\n",
    "connect = np.zeros(nv*numCells,dtype=np.int32)\n",
    "offset = 0\n",
    "for blk in e.get_elem_blk_ids():\n",
    "    tmpConnect = e.get_elem_connectivity(blk)\n",
    "    connect[offset:offset+tmpConnect[1]*nv] = tmpConnect[0]\n",
    "    offset += tmpConnect[1]*nv"
   ]
  },
  {
   "cell_type": "code",
   "execution_count": null,
   "metadata": {},
   "outputs": [],
   "source": [
    "# reconstruct connectivity tables for each block\n",
    "newConnect = {id:np.empty(0,dtype=np.int32) for id in newBlocks}\n",
    "x,y,z = e.get_coords()\n",
    "for blk in e.get_elem_blk_ids():\n",
    "    EXOconnect = e.get_elem_connectivity(blk)\n",
    "    for n in range(EXOconnect[1]):\n",
    "        cell = EXOconnect[0][n*nv:(n+1)*nv]\n",
    "        xc = np.average(x[cell-1])\n",
    "        yc = np.average(y[cell-1])\n",
    "        blkID = blockindicator(xc,yc)\n",
    "        newConnect[blkID] = np.append(newConnect[blkID],cell)"
   ]
  },
  {
   "cell_type": "code",
   "execution_count": null,
   "metadata": {},
   "outputs": [],
   "source": [
    "# write the output file\n",
    "if os.path.exists(outfile):\n",
    "    os.remove(outfile)\n",
    "f = exo.exodus(outfile,mode = 'w', array_type='numpy',\n",
    "               title = e.title(),\n",
    "               numDims = e.numDim.value, \n",
    "               numNodes = e.numNodes.value, \n",
    "               numElems = e.numElem.value,\n",
    "               numBlocks = len(newBlocks), \n",
    "               numNodeSets = e.numNodeSets.value, \n",
    "               numSideSets = e.numSideSets.value,\n",
    "               io_size  = 0)\n"
   ]
  },
  {
   "cell_type": "code",
   "execution_count": null,
   "metadata": {},
   "outputs": [],
   "source": [
    "f.put_coord_names([\"x\", \"y\"])\n",
    "f.put_coords(x,y,z)\n",
    "\n",
    "vsid = e.get_node_set_ids()\n",
    "for vs in vsid:\n",
    "    numSetNodes, numSetDistFacts = e.get_node_set_params(vs)\n",
    "    f.put_node_set_params(vs,numSetNodes, numSetDistFacts)\n",
    "\n",
    "fsid = e.get_side_set_ids()\n",
    "for fs in fsid:\n",
    "    fs_elems, fs_sides = e.get_side_set_params(fs)\n",
    "    f.put_side_set_params(fs,fs_elems, fs_sides)\n",
    "\n",
    "for blk in newBlocks:\n",
    "    f.put_elem_blk_info(blk, cellType, len(newConnect[blk])//nv, nv, numAttr)\n",
    "    f.put_elem_connectivity(blk, newConnect[blk])"
   ]
  },
  {
   "cell_type": "code",
   "execution_count": null,
   "metadata": {},
   "outputs": [],
   "source": [
    "f.close()"
   ]
  },
  {
   "cell_type": "code",
   "execution_count": null,
   "metadata": {},
   "outputs": [],
   "source": []
  }
 ],
 "metadata": {
  "kernelspec": {
   "display_name": "Python 3",
   "language": "python",
   "name": "python3"
  },
  "language_info": {
   "codemirror_mode": {
    "name": "ipython",
    "version": 3
   },
   "file_extension": ".py",
   "mimetype": "text/x-python",
   "name": "python",
   "nbconvert_exporter": "python",
   "pygments_lexer": "ipython3",
   "version": "3.11.4"
  },
  "orig_nbformat": 4
 },
 "nbformat": 4,
 "nbformat_minor": 2
}
